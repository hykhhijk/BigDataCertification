{
 "cells": [
  {
   "cell_type": "code",
   "execution_count": 3,
   "metadata": {},
   "outputs": [],
   "source": [
    "import numpy as np\n",
    "import pandas as pd\n",
    "import os\n",
    "import matplotlib.pyplot as plt"
   ]
  },
  {
   "cell_type": "code",
   "execution_count": 4,
   "metadata": {},
   "outputs": [],
   "source": [
    "path = \"/mnt/d/data/titanic/train.csv\"\n",
    "df = pd.read_csv(path)"
   ]
  },
  {
   "cell_type": "markdown",
   "metadata": {},
   "source": [
    "# Data Preprocess"
   ]
  },
  {
   "cell_type": "code",
   "execution_count": 5,
   "metadata": {},
   "outputs": [
    {
     "data": {
      "text/html": [
       "<div>\n",
       "<style scoped>\n",
       "    .dataframe tbody tr th:only-of-type {\n",
       "        vertical-align: middle;\n",
       "    }\n",
       "\n",
       "    .dataframe tbody tr th {\n",
       "        vertical-align: top;\n",
       "    }\n",
       "\n",
       "    .dataframe thead th {\n",
       "        text-align: right;\n",
       "    }\n",
       "</style>\n",
       "<table border=\"1\" class=\"dataframe\">\n",
       "  <thead>\n",
       "    <tr style=\"text-align: right;\">\n",
       "      <th></th>\n",
       "      <th>PassengerId</th>\n",
       "      <th>Survived</th>\n",
       "      <th>Pclass</th>\n",
       "      <th>Name</th>\n",
       "      <th>Sex</th>\n",
       "      <th>Age</th>\n",
       "      <th>SibSp</th>\n",
       "      <th>Parch</th>\n",
       "      <th>Ticket</th>\n",
       "      <th>Fare</th>\n",
       "      <th>Cabin</th>\n",
       "      <th>Embarked</th>\n",
       "    </tr>\n",
       "  </thead>\n",
       "  <tbody>\n",
       "    <tr>\n",
       "      <th>0</th>\n",
       "      <td>1</td>\n",
       "      <td>0</td>\n",
       "      <td>3</td>\n",
       "      <td>Braund, Mr. Owen Harris</td>\n",
       "      <td>male</td>\n",
       "      <td>22.0</td>\n",
       "      <td>1</td>\n",
       "      <td>0</td>\n",
       "      <td>A/5 21171</td>\n",
       "      <td>7.2500</td>\n",
       "      <td>NaN</td>\n",
       "      <td>S</td>\n",
       "    </tr>\n",
       "    <tr>\n",
       "      <th>1</th>\n",
       "      <td>2</td>\n",
       "      <td>1</td>\n",
       "      <td>1</td>\n",
       "      <td>Cumings, Mrs. John Bradley (Florence Briggs Th...</td>\n",
       "      <td>female</td>\n",
       "      <td>38.0</td>\n",
       "      <td>1</td>\n",
       "      <td>0</td>\n",
       "      <td>PC 17599</td>\n",
       "      <td>71.2833</td>\n",
       "      <td>C85</td>\n",
       "      <td>C</td>\n",
       "    </tr>\n",
       "    <tr>\n",
       "      <th>2</th>\n",
       "      <td>3</td>\n",
       "      <td>1</td>\n",
       "      <td>3</td>\n",
       "      <td>Heikkinen, Miss. Laina</td>\n",
       "      <td>female</td>\n",
       "      <td>26.0</td>\n",
       "      <td>0</td>\n",
       "      <td>0</td>\n",
       "      <td>STON/O2. 3101282</td>\n",
       "      <td>7.9250</td>\n",
       "      <td>NaN</td>\n",
       "      <td>S</td>\n",
       "    </tr>\n",
       "    <tr>\n",
       "      <th>3</th>\n",
       "      <td>4</td>\n",
       "      <td>1</td>\n",
       "      <td>1</td>\n",
       "      <td>Futrelle, Mrs. Jacques Heath (Lily May Peel)</td>\n",
       "      <td>female</td>\n",
       "      <td>35.0</td>\n",
       "      <td>1</td>\n",
       "      <td>0</td>\n",
       "      <td>113803</td>\n",
       "      <td>53.1000</td>\n",
       "      <td>C123</td>\n",
       "      <td>S</td>\n",
       "    </tr>\n",
       "    <tr>\n",
       "      <th>4</th>\n",
       "      <td>5</td>\n",
       "      <td>0</td>\n",
       "      <td>3</td>\n",
       "      <td>Allen, Mr. William Henry</td>\n",
       "      <td>male</td>\n",
       "      <td>35.0</td>\n",
       "      <td>0</td>\n",
       "      <td>0</td>\n",
       "      <td>373450</td>\n",
       "      <td>8.0500</td>\n",
       "      <td>NaN</td>\n",
       "      <td>S</td>\n",
       "    </tr>\n",
       "    <tr>\n",
       "      <th>...</th>\n",
       "      <td>...</td>\n",
       "      <td>...</td>\n",
       "      <td>...</td>\n",
       "      <td>...</td>\n",
       "      <td>...</td>\n",
       "      <td>...</td>\n",
       "      <td>...</td>\n",
       "      <td>...</td>\n",
       "      <td>...</td>\n",
       "      <td>...</td>\n",
       "      <td>...</td>\n",
       "      <td>...</td>\n",
       "    </tr>\n",
       "    <tr>\n",
       "      <th>886</th>\n",
       "      <td>887</td>\n",
       "      <td>0</td>\n",
       "      <td>2</td>\n",
       "      <td>Montvila, Rev. Juozas</td>\n",
       "      <td>male</td>\n",
       "      <td>27.0</td>\n",
       "      <td>0</td>\n",
       "      <td>0</td>\n",
       "      <td>211536</td>\n",
       "      <td>13.0000</td>\n",
       "      <td>NaN</td>\n",
       "      <td>S</td>\n",
       "    </tr>\n",
       "    <tr>\n",
       "      <th>887</th>\n",
       "      <td>888</td>\n",
       "      <td>1</td>\n",
       "      <td>1</td>\n",
       "      <td>Graham, Miss. Margaret Edith</td>\n",
       "      <td>female</td>\n",
       "      <td>19.0</td>\n",
       "      <td>0</td>\n",
       "      <td>0</td>\n",
       "      <td>112053</td>\n",
       "      <td>30.0000</td>\n",
       "      <td>B42</td>\n",
       "      <td>S</td>\n",
       "    </tr>\n",
       "    <tr>\n",
       "      <th>888</th>\n",
       "      <td>889</td>\n",
       "      <td>0</td>\n",
       "      <td>3</td>\n",
       "      <td>Johnston, Miss. Catherine Helen \"Carrie\"</td>\n",
       "      <td>female</td>\n",
       "      <td>NaN</td>\n",
       "      <td>1</td>\n",
       "      <td>2</td>\n",
       "      <td>W./C. 6607</td>\n",
       "      <td>23.4500</td>\n",
       "      <td>NaN</td>\n",
       "      <td>S</td>\n",
       "    </tr>\n",
       "    <tr>\n",
       "      <th>889</th>\n",
       "      <td>890</td>\n",
       "      <td>1</td>\n",
       "      <td>1</td>\n",
       "      <td>Behr, Mr. Karl Howell</td>\n",
       "      <td>male</td>\n",
       "      <td>26.0</td>\n",
       "      <td>0</td>\n",
       "      <td>0</td>\n",
       "      <td>111369</td>\n",
       "      <td>30.0000</td>\n",
       "      <td>C148</td>\n",
       "      <td>C</td>\n",
       "    </tr>\n",
       "    <tr>\n",
       "      <th>890</th>\n",
       "      <td>891</td>\n",
       "      <td>0</td>\n",
       "      <td>3</td>\n",
       "      <td>Dooley, Mr. Patrick</td>\n",
       "      <td>male</td>\n",
       "      <td>32.0</td>\n",
       "      <td>0</td>\n",
       "      <td>0</td>\n",
       "      <td>370376</td>\n",
       "      <td>7.7500</td>\n",
       "      <td>NaN</td>\n",
       "      <td>Q</td>\n",
       "    </tr>\n",
       "  </tbody>\n",
       "</table>\n",
       "<p>891 rows × 12 columns</p>\n",
       "</div>"
      ],
      "text/plain": [
       "     PassengerId  Survived  Pclass  \\\n",
       "0              1         0       3   \n",
       "1              2         1       1   \n",
       "2              3         1       3   \n",
       "3              4         1       1   \n",
       "4              5         0       3   \n",
       "..           ...       ...     ...   \n",
       "886          887         0       2   \n",
       "887          888         1       1   \n",
       "888          889         0       3   \n",
       "889          890         1       1   \n",
       "890          891         0       3   \n",
       "\n",
       "                                                  Name     Sex   Age  SibSp  \\\n",
       "0                              Braund, Mr. Owen Harris    male  22.0      1   \n",
       "1    Cumings, Mrs. John Bradley (Florence Briggs Th...  female  38.0      1   \n",
       "2                               Heikkinen, Miss. Laina  female  26.0      0   \n",
       "3         Futrelle, Mrs. Jacques Heath (Lily May Peel)  female  35.0      1   \n",
       "4                             Allen, Mr. William Henry    male  35.0      0   \n",
       "..                                                 ...     ...   ...    ...   \n",
       "886                              Montvila, Rev. Juozas    male  27.0      0   \n",
       "887                       Graham, Miss. Margaret Edith  female  19.0      0   \n",
       "888           Johnston, Miss. Catherine Helen \"Carrie\"  female   NaN      1   \n",
       "889                              Behr, Mr. Karl Howell    male  26.0      0   \n",
       "890                                Dooley, Mr. Patrick    male  32.0      0   \n",
       "\n",
       "     Parch            Ticket     Fare Cabin Embarked  \n",
       "0        0         A/5 21171   7.2500   NaN        S  \n",
       "1        0          PC 17599  71.2833   C85        C  \n",
       "2        0  STON/O2. 3101282   7.9250   NaN        S  \n",
       "3        0            113803  53.1000  C123        S  \n",
       "4        0            373450   8.0500   NaN        S  \n",
       "..     ...               ...      ...   ...      ...  \n",
       "886      0            211536  13.0000   NaN        S  \n",
       "887      0            112053  30.0000   B42        S  \n",
       "888      2        W./C. 6607  23.4500   NaN        S  \n",
       "889      0            111369  30.0000  C148        C  \n",
       "890      0            370376   7.7500   NaN        Q  \n",
       "\n",
       "[891 rows x 12 columns]"
      ]
     },
     "execution_count": 5,
     "metadata": {},
     "output_type": "execute_result"
    }
   ],
   "source": [
    "df"
   ]
  },
  {
   "cell_type": "markdown",
   "metadata": {},
   "source": [
    "## astype: chage column dtpye"
   ]
  },
  {
   "cell_type": "code",
   "execution_count": 6,
   "metadata": {},
   "outputs": [],
   "source": [
    "df[\"Survivied\"] = df[\"Survived\"].astype(\"str\")\n",
    "df[\"Pclass\"] = df[\"Pclass\"].astype(\"str\")"
   ]
  },
  {
   "cell_type": "markdown",
   "metadata": {},
   "source": [
    "## Data normalization"
   ]
  },
  {
   "cell_type": "code",
   "execution_count": 7,
   "metadata": {},
   "outputs": [],
   "source": [
    "k = 5*np.random.randn(1000) + 53.9\n",
    "j = 4*np.random.randn(1000) + 32.7\n",
    "\n",
    "df = pd.DataFrame({\"K\":k, \"J\":j})"
   ]
  },
  {
   "cell_type": "code",
   "execution_count": 8,
   "metadata": {},
   "outputs": [
    {
     "data": {
      "image/png": "[encoded data removed]",
      "text/plain": [
       "<Figure size 640x480 with 1 Axes>"
      ]
     },
     "metadata": {},
     "output_type": "display_data"
    }
   ],
   "source": [
    "plt.hist(k)\n",
    "plt.xlabel(\"Korea\")\n",
    "plt.show()"
   ]
  },
  {
   "cell_type": "code",
   "execution_count": 9,
   "metadata": {},
   "outputs": [
    {
     "data": {
      "text/html": [
       "<div>\n",
       "<style scoped>\n",
       "    .dataframe tbody tr th:only-of-type {\n",
       "        vertical-align: middle;\n",
       "    }\n",
       "\n",
       "    .dataframe tbody tr th {\n",
       "        vertical-align: top;\n",
       "    }\n",
       "\n",
       "    .dataframe thead th {\n",
       "        text-align: right;\n",
       "    }\n",
       "</style>\n",
       "<table border=\"1\" class=\"dataframe\">\n",
       "  <thead>\n",
       "    <tr style=\"text-align: right;\">\n",
       "      <th></th>\n",
       "      <th>K</th>\n",
       "      <th>J</th>\n",
       "      <th>normalized_K</th>\n",
       "      <th>normalized_J</th>\n",
       "    </tr>\n",
       "  </thead>\n",
       "  <tbody>\n",
       "    <tr>\n",
       "      <th>0</th>\n",
       "      <td>57.032991</td>\n",
       "      <td>31.511306</td>\n",
       "      <td>0.612391</td>\n",
       "      <td>-0.291104</td>\n",
       "    </tr>\n",
       "    <tr>\n",
       "      <th>1</th>\n",
       "      <td>58.689724</td>\n",
       "      <td>35.131147</td>\n",
       "      <td>0.943499</td>\n",
       "      <td>0.603286</td>\n",
       "    </tr>\n",
       "    <tr>\n",
       "      <th>2</th>\n",
       "      <td>49.359688</td>\n",
       "      <td>33.778719</td>\n",
       "      <td>-0.921165</td>\n",
       "      <td>0.269128</td>\n",
       "    </tr>\n",
       "    <tr>\n",
       "      <th>3</th>\n",
       "      <td>50.724554</td>\n",
       "      <td>36.106439</td>\n",
       "      <td>-0.648389</td>\n",
       "      <td>0.844261</td>\n",
       "    </tr>\n",
       "    <tr>\n",
       "      <th>4</th>\n",
       "      <td>55.180584</td>\n",
       "      <td>31.176545</td>\n",
       "      <td>0.242176</td>\n",
       "      <td>-0.373817</td>\n",
       "    </tr>\n",
       "    <tr>\n",
       "      <th>...</th>\n",
       "      <td>...</td>\n",
       "      <td>...</td>\n",
       "      <td>...</td>\n",
       "      <td>...</td>\n",
       "    </tr>\n",
       "    <tr>\n",
       "      <th>995</th>\n",
       "      <td>62.301191</td>\n",
       "      <td>30.275416</td>\n",
       "      <td>1.665272</td>\n",
       "      <td>-0.596468</td>\n",
       "    </tr>\n",
       "    <tr>\n",
       "      <th>996</th>\n",
       "      <td>60.337654</td>\n",
       "      <td>37.399833</td>\n",
       "      <td>1.272847</td>\n",
       "      <td>1.163833</td>\n",
       "    </tr>\n",
       "    <tr>\n",
       "      <th>997</th>\n",
       "      <td>54.510119</td>\n",
       "      <td>26.628419</td>\n",
       "      <td>0.108179</td>\n",
       "      <td>-1.497568</td>\n",
       "    </tr>\n",
       "    <tr>\n",
       "      <th>998</th>\n",
       "      <td>49.829719</td>\n",
       "      <td>37.257881</td>\n",
       "      <td>-0.827227</td>\n",
       "      <td>1.128759</td>\n",
       "    </tr>\n",
       "    <tr>\n",
       "      <th>999</th>\n",
       "      <td>53.725423</td>\n",
       "      <td>32.793140</td>\n",
       "      <td>-0.048647</td>\n",
       "      <td>0.025611</td>\n",
       "    </tr>\n",
       "  </tbody>\n",
       "</table>\n",
       "<p>1000 rows × 4 columns</p>\n",
       "</div>"
      ],
      "text/plain": [
       "             K          J  normalized_K  normalized_J\n",
       "0    57.032991  31.511306      0.612391     -0.291104\n",
       "1    58.689724  35.131147      0.943499      0.603286\n",
       "2    49.359688  33.778719     -0.921165      0.269128\n",
       "3    50.724554  36.106439     -0.648389      0.844261\n",
       "4    55.180584  31.176545      0.242176     -0.373817\n",
       "..         ...        ...           ...           ...\n",
       "995  62.301191  30.275416      1.665272     -0.596468\n",
       "996  60.337654  37.399833      1.272847      1.163833\n",
       "997  54.510119  26.628419      0.108179     -1.497568\n",
       "998  49.829719  37.257881     -0.827227      1.128759\n",
       "999  53.725423  32.793140     -0.048647      0.025611\n",
       "\n",
       "[1000 rows x 4 columns]"
      ]
     },
     "execution_count": 9,
     "metadata": {},
     "output_type": "execute_result"
    }
   ],
   "source": [
    "import scipy.stats as ss\n",
    "### Z-score는 [x - mean(x)] / std(x) 역시 사용 가능\n",
    "df[\"normalized_K\"] = ss.zscore(k)\n",
    "df[\"normalized_J\"] = ss.zscore(j)\n",
    "\n",
    "df"
   ]
  },
  {
   "cell_type": "code",
   "execution_count": 10,
   "metadata": {},
   "outputs": [
    {
     "data": {
      "text/html": [
       "<div>\n",
       "<style scoped>\n",
       "    .dataframe tbody tr th:only-of-type {\n",
       "        vertical-align: middle;\n",
       "    }\n",
       "\n",
       "    .dataframe tbody tr th {\n",
       "        vertical-align: top;\n",
       "    }\n",
       "\n",
       "    .dataframe thead th {\n",
       "        text-align: right;\n",
       "    }\n",
       "</style>\n",
       "<table border=\"1\" class=\"dataframe\">\n",
       "  <thead>\n",
       "    <tr style=\"text-align: right;\">\n",
       "      <th></th>\n",
       "      <th>K</th>\n",
       "      <th>J</th>\n",
       "      <th>normalized_K</th>\n",
       "      <th>normalized_J</th>\n",
       "      <th>normalized_K2</th>\n",
       "      <th>normalized_J2</th>\n",
       "    </tr>\n",
       "  </thead>\n",
       "  <tbody>\n",
       "    <tr>\n",
       "      <th>0</th>\n",
       "      <td>57.032991</td>\n",
       "      <td>31.511306</td>\n",
       "      <td>0.612391</td>\n",
       "      <td>-0.291104</td>\n",
       "      <td>0.612391</td>\n",
       "      <td>-0.291104</td>\n",
       "    </tr>\n",
       "    <tr>\n",
       "      <th>1</th>\n",
       "      <td>58.689724</td>\n",
       "      <td>35.131147</td>\n",
       "      <td>0.943499</td>\n",
       "      <td>0.603286</td>\n",
       "      <td>0.943499</td>\n",
       "      <td>0.603286</td>\n",
       "    </tr>\n",
       "    <tr>\n",
       "      <th>2</th>\n",
       "      <td>49.359688</td>\n",
       "      <td>33.778719</td>\n",
       "      <td>-0.921165</td>\n",
       "      <td>0.269128</td>\n",
       "      <td>-0.921165</td>\n",
       "      <td>0.269128</td>\n",
       "    </tr>\n",
       "    <tr>\n",
       "      <th>3</th>\n",
       "      <td>50.724554</td>\n",
       "      <td>36.106439</td>\n",
       "      <td>-0.648389</td>\n",
       "      <td>0.844261</td>\n",
       "      <td>-0.648389</td>\n",
       "      <td>0.844261</td>\n",
       "    </tr>\n",
       "    <tr>\n",
       "      <th>4</th>\n",
       "      <td>55.180584</td>\n",
       "      <td>31.176545</td>\n",
       "      <td>0.242176</td>\n",
       "      <td>-0.373817</td>\n",
       "      <td>0.242176</td>\n",
       "      <td>-0.373817</td>\n",
       "    </tr>\n",
       "    <tr>\n",
       "      <th>...</th>\n",
       "      <td>...</td>\n",
       "      <td>...</td>\n",
       "      <td>...</td>\n",
       "      <td>...</td>\n",
       "      <td>...</td>\n",
       "      <td>...</td>\n",
       "    </tr>\n",
       "    <tr>\n",
       "      <th>995</th>\n",
       "      <td>62.301191</td>\n",
       "      <td>30.275416</td>\n",
       "      <td>1.665272</td>\n",
       "      <td>-0.596468</td>\n",
       "      <td>1.665272</td>\n",
       "      <td>-0.596468</td>\n",
       "    </tr>\n",
       "    <tr>\n",
       "      <th>996</th>\n",
       "      <td>60.337654</td>\n",
       "      <td>37.399833</td>\n",
       "      <td>1.272847</td>\n",
       "      <td>1.163833</td>\n",
       "      <td>1.272847</td>\n",
       "      <td>1.163833</td>\n",
       "    </tr>\n",
       "    <tr>\n",
       "      <th>997</th>\n",
       "      <td>54.510119</td>\n",
       "      <td>26.628419</td>\n",
       "      <td>0.108179</td>\n",
       "      <td>-1.497568</td>\n",
       "      <td>0.108179</td>\n",
       "      <td>-1.497568</td>\n",
       "    </tr>\n",
       "    <tr>\n",
       "      <th>998</th>\n",
       "      <td>49.829719</td>\n",
       "      <td>37.257881</td>\n",
       "      <td>-0.827227</td>\n",
       "      <td>1.128759</td>\n",
       "      <td>-0.827227</td>\n",
       "      <td>1.128759</td>\n",
       "    </tr>\n",
       "    <tr>\n",
       "      <th>999</th>\n",
       "      <td>53.725423</td>\n",
       "      <td>32.793140</td>\n",
       "      <td>-0.048647</td>\n",
       "      <td>0.025611</td>\n",
       "      <td>-0.048647</td>\n",
       "      <td>0.025611</td>\n",
       "    </tr>\n",
       "  </tbody>\n",
       "</table>\n",
       "<p>1000 rows × 6 columns</p>\n",
       "</div>"
      ],
      "text/plain": [
       "             K          J  normalized_K  normalized_J  normalized_K2  \\\n",
       "0    57.032991  31.511306      0.612391     -0.291104       0.612391   \n",
       "1    58.689724  35.131147      0.943499      0.603286       0.943499   \n",
       "2    49.359688  33.778719     -0.921165      0.269128      -0.921165   \n",
       "3    50.724554  36.106439     -0.648389      0.844261      -0.648389   \n",
       "4    55.180584  31.176545      0.242176     -0.373817       0.242176   \n",
       "..         ...        ...           ...           ...            ...   \n",
       "995  62.301191  30.275416      1.665272     -0.596468       1.665272   \n",
       "996  60.337654  37.399833      1.272847      1.163833       1.272847   \n",
       "997  54.510119  26.628419      0.108179     -1.497568       0.108179   \n",
       "998  49.829719  37.257881     -0.827227      1.128759      -0.827227   \n",
       "999  53.725423  32.793140     -0.048647      0.025611      -0.048647   \n",
       "\n",
       "     normalized_J2  \n",
       "0        -0.291104  \n",
       "1         0.603286  \n",
       "2         0.269128  \n",
       "3         0.844261  \n",
       "4        -0.373817  \n",
       "..             ...  \n",
       "995      -0.596468  \n",
       "996       1.163833  \n",
       "997      -1.497568  \n",
       "998       1.128759  \n",
       "999       0.025611  \n",
       "\n",
       "[1000 rows x 6 columns]"
      ]
     },
     "execution_count": 10,
     "metadata": {},
     "output_type": "execute_result"
    }
   ],
   "source": [
    "df[\"normalized_K2\"] = (k - np.mean(k)) / np.std(k)\n",
    "df[\"normalized_J2\"] = (j - np.mean(j)) / np.std(j)\n",
    "\n",
    "df"
   ]
  },
  {
   "cell_type": "code",
   "execution_count": 11,
   "metadata": {},
   "outputs": [
    {
     "data": {
      "text/html": [
       "<div>\n",
       "<style scoped>\n",
       "    .dataframe tbody tr th:only-of-type {\n",
       "        vertical-align: middle;\n",
       "    }\n",
       "\n",
       "    .dataframe tbody tr th {\n",
       "        vertical-align: top;\n",
       "    }\n",
       "\n",
       "    .dataframe thead th {\n",
       "        text-align: right;\n",
       "    }\n",
       "</style>\n",
       "<table border=\"1\" class=\"dataframe\">\n",
       "  <thead>\n",
       "    <tr style=\"text-align: right;\">\n",
       "      <th></th>\n",
       "      <th>K</th>\n",
       "      <th>J</th>\n",
       "      <th>normalized_K</th>\n",
       "      <th>normalized_J</th>\n",
       "      <th>normalized_K2</th>\n",
       "      <th>normalized_J2</th>\n",
       "      <th>normalized_K3</th>\n",
       "      <th>normalized_J3</th>\n",
       "    </tr>\n",
       "  </thead>\n",
       "  <tbody>\n",
       "    <tr>\n",
       "      <th>0</th>\n",
       "      <td>57.032991</td>\n",
       "      <td>31.511306</td>\n",
       "      <td>0.612391</td>\n",
       "      <td>-0.291104</td>\n",
       "      <td>0.612391</td>\n",
       "      <td>-0.291104</td>\n",
       "      <td>0.612391</td>\n",
       "      <td>-0.291104</td>\n",
       "    </tr>\n",
       "    <tr>\n",
       "      <th>1</th>\n",
       "      <td>58.689724</td>\n",
       "      <td>35.131147</td>\n",
       "      <td>0.943499</td>\n",
       "      <td>0.603286</td>\n",
       "      <td>0.943499</td>\n",
       "      <td>0.603286</td>\n",
       "      <td>0.943499</td>\n",
       "      <td>0.603286</td>\n",
       "    </tr>\n",
       "    <tr>\n",
       "      <th>2</th>\n",
       "      <td>49.359688</td>\n",
       "      <td>33.778719</td>\n",
       "      <td>-0.921165</td>\n",
       "      <td>0.269128</td>\n",
       "      <td>-0.921165</td>\n",
       "      <td>0.269128</td>\n",
       "      <td>-0.921165</td>\n",
       "      <td>0.269128</td>\n",
       "    </tr>\n",
       "    <tr>\n",
       "      <th>3</th>\n",
       "      <td>50.724554</td>\n",
       "      <td>36.106439</td>\n",
       "      <td>-0.648389</td>\n",
       "      <td>0.844261</td>\n",
       "      <td>-0.648389</td>\n",
       "      <td>0.844261</td>\n",
       "      <td>-0.648389</td>\n",
       "      <td>0.844261</td>\n",
       "    </tr>\n",
       "    <tr>\n",
       "      <th>4</th>\n",
       "      <td>55.180584</td>\n",
       "      <td>31.176545</td>\n",
       "      <td>0.242176</td>\n",
       "      <td>-0.373817</td>\n",
       "      <td>0.242176</td>\n",
       "      <td>-0.373817</td>\n",
       "      <td>0.242176</td>\n",
       "      <td>-0.373817</td>\n",
       "    </tr>\n",
       "    <tr>\n",
       "      <th>...</th>\n",
       "      <td>...</td>\n",
       "      <td>...</td>\n",
       "      <td>...</td>\n",
       "      <td>...</td>\n",
       "      <td>...</td>\n",
       "      <td>...</td>\n",
       "      <td>...</td>\n",
       "      <td>...</td>\n",
       "    </tr>\n",
       "    <tr>\n",
       "      <th>995</th>\n",
       "      <td>62.301191</td>\n",
       "      <td>30.275416</td>\n",
       "      <td>1.665272</td>\n",
       "      <td>-0.596468</td>\n",
       "      <td>1.665272</td>\n",
       "      <td>-0.596468</td>\n",
       "      <td>1.665272</td>\n",
       "      <td>-0.596468</td>\n",
       "    </tr>\n",
       "    <tr>\n",
       "      <th>996</th>\n",
       "      <td>60.337654</td>\n",
       "      <td>37.399833</td>\n",
       "      <td>1.272847</td>\n",
       "      <td>1.163833</td>\n",
       "      <td>1.272847</td>\n",
       "      <td>1.163833</td>\n",
       "      <td>1.272847</td>\n",
       "      <td>1.163833</td>\n",
       "    </tr>\n",
       "    <tr>\n",
       "      <th>997</th>\n",
       "      <td>54.510119</td>\n",
       "      <td>26.628419</td>\n",
       "      <td>0.108179</td>\n",
       "      <td>-1.497568</td>\n",
       "      <td>0.108179</td>\n",
       "      <td>-1.497568</td>\n",
       "      <td>0.108179</td>\n",
       "      <td>-1.497568</td>\n",
       "    </tr>\n",
       "    <tr>\n",
       "      <th>998</th>\n",
       "      <td>49.829719</td>\n",
       "      <td>37.257881</td>\n",
       "      <td>-0.827227</td>\n",
       "      <td>1.128759</td>\n",
       "      <td>-0.827227</td>\n",
       "      <td>1.128759</td>\n",
       "      <td>-0.827227</td>\n",
       "      <td>1.128759</td>\n",
       "    </tr>\n",
       "    <tr>\n",
       "      <th>999</th>\n",
       "      <td>53.725423</td>\n",
       "      <td>32.793140</td>\n",
       "      <td>-0.048647</td>\n",
       "      <td>0.025611</td>\n",
       "      <td>-0.048647</td>\n",
       "      <td>0.025611</td>\n",
       "      <td>-0.048647</td>\n",
       "      <td>0.025611</td>\n",
       "    </tr>\n",
       "  </tbody>\n",
       "</table>\n",
       "<p>1000 rows × 8 columns</p>\n",
       "</div>"
      ],
      "text/plain": [
       "             K          J  normalized_K  normalized_J  normalized_K2  \\\n",
       "0    57.032991  31.511306      0.612391     -0.291104       0.612391   \n",
       "1    58.689724  35.131147      0.943499      0.603286       0.943499   \n",
       "2    49.359688  33.778719     -0.921165      0.269128      -0.921165   \n",
       "3    50.724554  36.106439     -0.648389      0.844261      -0.648389   \n",
       "4    55.180584  31.176545      0.242176     -0.373817       0.242176   \n",
       "..         ...        ...           ...           ...            ...   \n",
       "995  62.301191  30.275416      1.665272     -0.596468       1.665272   \n",
       "996  60.337654  37.399833      1.272847      1.163833       1.272847   \n",
       "997  54.510119  26.628419      0.108179     -1.497568       0.108179   \n",
       "998  49.829719  37.257881     -0.827227      1.128759      -0.827227   \n",
       "999  53.725423  32.793140     -0.048647      0.025611      -0.048647   \n",
       "\n",
       "     normalized_J2  normalized_K3  normalized_J3  \n",
       "0        -0.291104       0.612391      -0.291104  \n",
       "1         0.603286       0.943499       0.603286  \n",
       "2         0.269128      -0.921165       0.269128  \n",
       "3         0.844261      -0.648389       0.844261  \n",
       "4        -0.373817       0.242176      -0.373817  \n",
       "..             ...            ...            ...  \n",
       "995      -0.596468       1.665272      -0.596468  \n",
       "996       1.163833       1.272847       1.163833  \n",
       "997      -1.497568       0.108179      -1.497568  \n",
       "998       1.128759      -0.827227       1.128759  \n",
       "999       0.025611      -0.048647       0.025611  \n",
       "\n",
       "[1000 rows x 8 columns]"
      ]
     },
     "execution_count": 11,
     "metadata": {},
     "output_type": "execute_result"
    }
   ],
   "source": [
    "from sklearn.preprocessing import StandardScaler\n",
    "\n",
    "scaler = StandardScaler()\n",
    "df[\"normalized_K3\"] = scaler.fit_transform(df[[\"K\"]])\n",
    "df[\"normalized_J3\"] = scaler.fit_transform(df[[\"J\"]])\n",
    "\n",
    "df"
   ]
  },
  {
   "cell_type": "code",
   "execution_count": 12,
   "metadata": {},
   "outputs": [
    {
     "data": {
      "text/html": [
       "<div>\n",
       "<style scoped>\n",
       "    .dataframe tbody tr th:only-of-type {\n",
       "        vertical-align: middle;\n",
       "    }\n",
       "\n",
       "    .dataframe tbody tr th {\n",
       "        vertical-align: top;\n",
       "    }\n",
       "\n",
       "    .dataframe thead th {\n",
       "        text-align: right;\n",
       "    }\n",
       "</style>\n",
       "<table border=\"1\" class=\"dataframe\">\n",
       "  <thead>\n",
       "    <tr style=\"text-align: right;\">\n",
       "      <th></th>\n",
       "      <th>K</th>\n",
       "      <th>J</th>\n",
       "      <th>normalized_K</th>\n",
       "      <th>normalized_J</th>\n",
       "      <th>normalized_K2</th>\n",
       "      <th>normalized_J2</th>\n",
       "      <th>normalized_K3</th>\n",
       "      <th>normalized_J3</th>\n",
       "      <th>mm_k</th>\n",
       "      <th>mm_j</th>\n",
       "    </tr>\n",
       "  </thead>\n",
       "  <tbody>\n",
       "    <tr>\n",
       "      <th>0</th>\n",
       "      <td>57.032991</td>\n",
       "      <td>31.511306</td>\n",
       "      <td>0.612391</td>\n",
       "      <td>-0.291104</td>\n",
       "      <td>0.612391</td>\n",
       "      <td>-0.291104</td>\n",
       "      <td>0.612391</td>\n",
       "      <td>-0.291104</td>\n",
       "      <td>0.607988</td>\n",
       "      <td>0.430867</td>\n",
       "    </tr>\n",
       "    <tr>\n",
       "      <th>1</th>\n",
       "      <td>58.689724</td>\n",
       "      <td>35.131147</td>\n",
       "      <td>0.943499</td>\n",
       "      <td>0.603286</td>\n",
       "      <td>0.943499</td>\n",
       "      <td>0.603286</td>\n",
       "      <td>0.943499</td>\n",
       "      <td>0.603286</td>\n",
       "      <td>0.663021</td>\n",
       "      <td>0.554256</td>\n",
       "    </tr>\n",
       "    <tr>\n",
       "      <th>2</th>\n",
       "      <td>49.359688</td>\n",
       "      <td>33.778719</td>\n",
       "      <td>-0.921165</td>\n",
       "      <td>0.269128</td>\n",
       "      <td>-0.921165</td>\n",
       "      <td>0.269128</td>\n",
       "      <td>-0.921165</td>\n",
       "      <td>0.269128</td>\n",
       "      <td>0.353097</td>\n",
       "      <td>0.508156</td>\n",
       "    </tr>\n",
       "    <tr>\n",
       "      <th>3</th>\n",
       "      <td>50.724554</td>\n",
       "      <td>36.106439</td>\n",
       "      <td>-0.648389</td>\n",
       "      <td>0.844261</td>\n",
       "      <td>-0.648389</td>\n",
       "      <td>0.844261</td>\n",
       "      <td>-0.648389</td>\n",
       "      <td>0.844261</td>\n",
       "      <td>0.398435</td>\n",
       "      <td>0.587501</td>\n",
       "    </tr>\n",
       "    <tr>\n",
       "      <th>4</th>\n",
       "      <td>55.180584</td>\n",
       "      <td>31.176545</td>\n",
       "      <td>0.242176</td>\n",
       "      <td>-0.373817</td>\n",
       "      <td>0.242176</td>\n",
       "      <td>-0.373817</td>\n",
       "      <td>0.242176</td>\n",
       "      <td>-0.373817</td>\n",
       "      <td>0.546455</td>\n",
       "      <td>0.419456</td>\n",
       "    </tr>\n",
       "    <tr>\n",
       "      <th>...</th>\n",
       "      <td>...</td>\n",
       "      <td>...</td>\n",
       "      <td>...</td>\n",
       "      <td>...</td>\n",
       "      <td>...</td>\n",
       "      <td>...</td>\n",
       "      <td>...</td>\n",
       "      <td>...</td>\n",
       "      <td>...</td>\n",
       "      <td>...</td>\n",
       "    </tr>\n",
       "    <tr>\n",
       "      <th>995</th>\n",
       "      <td>62.301191</td>\n",
       "      <td>30.275416</td>\n",
       "      <td>1.665272</td>\n",
       "      <td>-0.596468</td>\n",
       "      <td>1.665272</td>\n",
       "      <td>-0.596468</td>\n",
       "      <td>1.665272</td>\n",
       "      <td>-0.596468</td>\n",
       "      <td>0.782987</td>\n",
       "      <td>0.388739</td>\n",
       "    </tr>\n",
       "    <tr>\n",
       "      <th>996</th>\n",
       "      <td>60.337654</td>\n",
       "      <td>37.399833</td>\n",
       "      <td>1.272847</td>\n",
       "      <td>1.163833</td>\n",
       "      <td>1.272847</td>\n",
       "      <td>1.163833</td>\n",
       "      <td>1.272847</td>\n",
       "      <td>1.163833</td>\n",
       "      <td>0.717762</td>\n",
       "      <td>0.631588</td>\n",
       "    </tr>\n",
       "    <tr>\n",
       "      <th>997</th>\n",
       "      <td>54.510119</td>\n",
       "      <td>26.628419</td>\n",
       "      <td>0.108179</td>\n",
       "      <td>-1.497568</td>\n",
       "      <td>0.108179</td>\n",
       "      <td>-1.497568</td>\n",
       "      <td>0.108179</td>\n",
       "      <td>-1.497568</td>\n",
       "      <td>0.524184</td>\n",
       "      <td>0.264425</td>\n",
       "    </tr>\n",
       "    <tr>\n",
       "      <th>998</th>\n",
       "      <td>49.829719</td>\n",
       "      <td>37.257881</td>\n",
       "      <td>-0.827227</td>\n",
       "      <td>1.128759</td>\n",
       "      <td>-0.827227</td>\n",
       "      <td>1.128759</td>\n",
       "      <td>-0.827227</td>\n",
       "      <td>1.128759</td>\n",
       "      <td>0.368711</td>\n",
       "      <td>0.626750</td>\n",
       "    </tr>\n",
       "    <tr>\n",
       "      <th>999</th>\n",
       "      <td>53.725423</td>\n",
       "      <td>32.793140</td>\n",
       "      <td>-0.048647</td>\n",
       "      <td>0.025611</td>\n",
       "      <td>-0.048647</td>\n",
       "      <td>0.025611</td>\n",
       "      <td>-0.048647</td>\n",
       "      <td>0.025611</td>\n",
       "      <td>0.498118</td>\n",
       "      <td>0.474561</td>\n",
       "    </tr>\n",
       "  </tbody>\n",
       "</table>\n",
       "<p>1000 rows × 10 columns</p>\n",
       "</div>"
      ],
      "text/plain": [
       "             K          J  normalized_K  normalized_J  normalized_K2  \\\n",
       "0    57.032991  31.511306      0.612391     -0.291104       0.612391   \n",
       "1    58.689724  35.131147      0.943499      0.603286       0.943499   \n",
       "2    49.359688  33.778719     -0.921165      0.269128      -0.921165   \n",
       "3    50.724554  36.106439     -0.648389      0.844261      -0.648389   \n",
       "4    55.180584  31.176545      0.242176     -0.373817       0.242176   \n",
       "..         ...        ...           ...           ...            ...   \n",
       "995  62.301191  30.275416      1.665272     -0.596468       1.665272   \n",
       "996  60.337654  37.399833      1.272847      1.163833       1.272847   \n",
       "997  54.510119  26.628419      0.108179     -1.497568       0.108179   \n",
       "998  49.829719  37.257881     -0.827227      1.128759      -0.827227   \n",
       "999  53.725423  32.793140     -0.048647      0.025611      -0.048647   \n",
       "\n",
       "     normalized_J2  normalized_K3  normalized_J3      mm_k      mm_j  \n",
       "0        -0.291104       0.612391      -0.291104  0.607988  0.430867  \n",
       "1         0.603286       0.943499       0.603286  0.663021  0.554256  \n",
       "2         0.269128      -0.921165       0.269128  0.353097  0.508156  \n",
       "3         0.844261      -0.648389       0.844261  0.398435  0.587501  \n",
       "4        -0.373817       0.242176      -0.373817  0.546455  0.419456  \n",
       "..             ...            ...            ...       ...       ...  \n",
       "995      -0.596468       1.665272      -0.596468  0.782987  0.388739  \n",
       "996       1.163833       1.272847       1.163833  0.717762  0.631588  \n",
       "997      -1.497568       0.108179      -1.497568  0.524184  0.264425  \n",
       "998       1.128759      -0.827227       1.128759  0.368711  0.626750  \n",
       "999       0.025611      -0.048647       0.025611  0.498118  0.474561  \n",
       "\n",
       "[1000 rows x 10 columns]"
      ]
     },
     "execution_count": 12,
     "metadata": {},
     "output_type": "execute_result"
    }
   ],
   "source": [
    "from sklearn.preprocessing import MinMaxScaler\n",
    "\n",
    "scaler = MinMaxScaler()\n",
    "\n",
    "df[\"mm_k\"] = scaler.fit_transform(df[[\"K\"]])\n",
    "df[\"mm_j\"] = scaler.fit_transform(df[[\"J\"]])\n",
    "\n",
    "df\n"
   ]
  },
  {
   "cell_type": "markdown",
   "metadata": {},
   "source": [
    "## Conversion to normal distribution"
   ]
  },
  {
   "cell_type": "code",
   "execution_count": 13,
   "metadata": {},
   "outputs": [],
   "source": [
    "k = 5*np.random.randn(1000)**2 + 53.9\n",
    "j = 4*np.random.randn(1000)**2*-1+ 32.7\n",
    "#k는 정규분포 제곱이라 왼쪽으로 치우치고\n",
    "#j는 정규분포의 위의 역수라 오른쪽으로 치우침\n",
    "#왼쪽 치우침 = 왜도 양수\n",
    "#오른쪽 치우침 = 왜도 음수\n",
    "\n",
    "df = pd.DataFrame({\"K\":k, \"J\":j})"
   ]
  },
  {
   "cell_type": "code",
   "execution_count": 14,
   "metadata": {},
   "outputs": [
    {
     "name": "stdout",
     "output_type": "stream",
     "text": [
      "2.688786887157092\n",
      "-2.339051818423193\n"
     ]
    }
   ],
   "source": [
    "print(ss.skew(df[\"K\"]))\n",
    "print(ss.skew(df[\"J\"]))\n"
   ]
  },
  {
   "cell_type": "code",
   "execution_count": 15,
   "metadata": {},
   "outputs": [
    {
     "name": "stdout",
     "output_type": "stream",
     "text": [
      "왜도에 따른 변수 변환식\n"
     ]
    },
    {
     "data": {
      "text/html": [
       "<div>\n",
       "<style scoped>\n",
       "    .dataframe tbody tr th:only-of-type {\n",
       "        vertical-align: middle;\n",
       "    }\n",
       "\n",
       "    .dataframe tbody tr th {\n",
       "        vertical-align: top;\n",
       "    }\n",
       "\n",
       "    .dataframe thead th {\n",
       "        text-align: right;\n",
       "    }\n",
       "</style>\n",
       "<table border=\"1\" class=\"dataframe\">\n",
       "  <thead>\n",
       "    <tr style=\"text-align: right;\">\n",
       "      <th></th>\n",
       "      <th>왜도</th>\n",
       "      <th>제곱근 변환</th>\n",
       "      <th>로그 변환</th>\n",
       "      <th>역수변환</th>\n",
       "    </tr>\n",
       "  </thead>\n",
       "  <tbody>\n",
       "    <tr>\n",
       "      <th>0</th>\n",
       "      <td>양수</td>\n",
       "      <td>sqrt(x)</td>\n",
       "      <td>log(x) 또는 log10(x)</td>\n",
       "      <td>1/x</td>\n",
       "    </tr>\n",
       "    <tr>\n",
       "      <th>1</th>\n",
       "      <td>음수</td>\n",
       "      <td>sqrt(max(x+1)-x)</td>\n",
       "      <td>log(max(x+1)-x)또는 log10(max(x+1)-x)</td>\n",
       "      <td>1/(max(x+1)-x)</td>\n",
       "    </tr>\n",
       "  </tbody>\n",
       "</table>\n",
       "</div>"
      ],
      "text/plain": [
       "   왜도            제곱근 변환                                로그 변환            역수변환\n",
       "0  양수           sqrt(x)                   log(x) 또는 log10(x)             1/x\n",
       "1  음수  sqrt(max(x+1)-x)  log(max(x+1)-x)또는 log10(max(x+1)-x)  1/(max(x+1)-x)"
      ]
     },
     "execution_count": 15,
     "metadata": {},
     "output_type": "execute_result"
    }
   ],
   "source": [
    "print(\"왜도에 따른 변수 변환식\")\n",
    "\n",
    "pd.DataFrame({\"왜도\":[\"양수\", \"음수\"], \"제곱근 변환\":[\"sqrt(x)\", \"sqrt(max(x+1)-x)\"], \"로그 변환\": [\"log(x) 또는 log10(x)\", \"log(max(x+1)-x)또는 log10(max(x+1)-x)\"], \"역수변환\":[\"1/x\", \"1/(max(x+1)-x)\"]})"
   ]
  },
  {
   "cell_type": "markdown",
   "metadata": {},
   "source": [
    "### log 변환"
   ]
  },
  {
   "cell_type": "code",
   "execution_count": 16,
   "metadata": {},
   "outputs": [
    {
     "name": "stdout",
     "output_type": "stream",
     "text": [
      "2.06438334529622\n",
      "0.46677966709955204\n"
     ]
    }
   ],
   "source": [
    "df[\"K1\"] = np.log(df[\"K\"])\n",
    "df[\"J1\"] = np.log(np.max(df[\"J\"]+1) - df[\"J\"])\n",
    "\n",
    "print(ss.skew(df[\"K1\"]))\n",
    "print(ss.skew(df[\"J1\"]))"
   ]
  },
  {
   "cell_type": "code",
   "execution_count": 17,
   "metadata": {},
   "outputs": [
    {
     "data": {
      "text/plain": [
       "(array([717., 170.,  62.,  28.,  11.,   6.,   3.,   2.,   0.,   1.]),\n",
       " array([ 53.90001177,  60.12176108,  66.34351039,  72.5652597 ,\n",
       "         78.78700901,  85.00875832,  91.23050763,  97.45225693,\n",
       "        103.67400624, 109.89575555, 116.11750486]),\n",
       " <BarContainer object of 10 artists>)"
      ]
     },
     "execution_count": 17,
     "metadata": {},
     "output_type": "execute_result"
    },
    {
     "data": {
      "image/png": "[encoded data removed]",
      "text/plain": [
       "<Figure size 640x480 with 1 Axes>"
      ]
     },
     "metadata": {},
     "output_type": "display_data"
    }
   ],
   "source": [
    "plt.hist(df[\"K\"])"
   ]
  },
  {
   "cell_type": "code",
   "execution_count": 18,
   "metadata": {},
   "outputs": [
    {
     "data": {
      "text/plain": [
       "(array([630., 172., 109.,  43.,  24.,  10.,   6.,   3.,   2.,   1.]),\n",
       " array([3.9871307 , 4.06387789, 4.14062509, 4.21737228, 4.29411948,\n",
       "        4.37086667, 4.44761387, 4.52436106, 4.60110826, 4.67785546,\n",
       "        4.75460265]),\n",
       " <BarContainer object of 10 artists>)"
      ]
     },
     "execution_count": 18,
     "metadata": {},
     "output_type": "execute_result"
    },
    {
     "data": {
      "image/png": "[encoded data removed]",
      "text/plain": [
       "<Figure size 640x480 with 1 Axes>"
      ]
     },
     "metadata": {},
     "output_type": "display_data"
    }
   ],
   "source": [
    "#이 그래프로는 정확히 알 수 없지만 흩어짐의 정도가 줄어든다\n",
    "#분포의 차이로 이를 어느정도 확인할 수 있다\n",
    "plt.hist(df[\"K1\"])"
   ]
  },
  {
   "cell_type": "markdown",
   "metadata": {},
   "source": [
    "### log10 변환"
   ]
  },
  {
   "cell_type": "code",
   "execution_count": 19,
   "metadata": {},
   "outputs": [
    {
     "name": "stdout",
     "output_type": "stream",
     "text": [
      "2.064383345296222\n",
      "0.4667796670995516\n"
     ]
    }
   ],
   "source": [
    "df[\"K2\"] = np.log10(df[\"K\"])\n",
    "df[\"J2\"] = np.log10(np.max(df[\"J\"]+1) - df[\"J\"])\n",
    "\n",
    "print(ss.skew(df[\"K2\"]))\n",
    "print(ss.skew(df[\"J2\"]))"
   ]
  },
  {
   "cell_type": "markdown",
   "metadata": {},
   "source": [
    "## cut"
   ]
  },
  {
   "cell_type": "code",
   "execution_count": 43,
   "metadata": {},
   "outputs": [],
   "source": [
    "df[\"cut\"] = pd.cut(x=df[\"K\"],\n",
    "                   bins = [50, 55, 60],\n",
    "                   labels=[\"50~55\", \"55~60\"],\n",
    "                   include_lowest=True)     #True means smallest label <= x"
   ]
  },
  {
   "cell_type": "code",
   "execution_count": 44,
   "metadata": {},
   "outputs": [
    {
     "data": {
      "text/plain": [
       "0      50~55\n",
       "1        NaN\n",
       "2      55~60\n",
       "3        NaN\n",
       "4      55~60\n",
       "       ...  \n",
       "995    55~60\n",
       "996    55~60\n",
       "997      NaN\n",
       "998    55~60\n",
       "999    55~60\n",
       "Name: cut, Length: 1000, dtype: category\n",
       "Categories (2, object): ['50~55' < '55~60']"
      ]
     },
     "execution_count": 44,
     "metadata": {},
     "output_type": "execute_result"
    }
   ],
   "source": [
    "df[\"cut\"]\n",
    "#범위 넘어가면 NaN"
   ]
  },
  {
   "cell_type": "code",
   "execution_count": 45,
   "metadata": {},
   "outputs": [],
   "source": [
    "df[\"qcut\"] = pd.qcut(x=df[\"K\"], q=5, labels=[0, 1, 2,3,4])"
   ]
  },
  {
   "cell_type": "code",
   "execution_count": 46,
   "metadata": {},
   "outputs": [
    {
     "data": {
      "text/plain": [
       "0      0\n",
       "1      3\n",
       "2      3\n",
       "3      4\n",
       "4      3\n",
       "      ..\n",
       "995    3\n",
       "996    3\n",
       "997    3\n",
       "998    2\n",
       "999    2\n",
       "Name: qcut, Length: 1000, dtype: category\n",
       "Categories (5, int64): [0 < 1 < 2 < 3 < 4]"
      ]
     },
     "execution_count": 46,
     "metadata": {},
     "output_type": "execute_result"
    }
   ],
   "source": [
    "df[\"qcut\"]"
   ]
  },
  {
   "cell_type": "code",
   "execution_count": 48,
   "metadata": {},
   "outputs": [
    {
     "data": {
      "text/plain": [
       "0    200\n",
       "1    200\n",
       "2    200\n",
       "3    200\n",
       "4    200\n",
       "Name: qcut, dtype: int64"
      ]
     },
     "execution_count": 48,
     "metadata": {},
     "output_type": "execute_result"
    }
   ],
   "source": [
    "df[\"qcut\"].value_counts()\n",
    "#label 수 정해주면 자동으로 개수 맞춰서 분할"
   ]
  },
  {
   "cell_type": "markdown",
   "metadata": {},
   "source": [
    "## PCA"
   ]
  },
  {
   "cell_type": "code",
   "execution_count": 79,
   "metadata": {},
   "outputs": [],
   "source": [
    "path = \"/mnt/d/data/titanic/train.csv\"\n",
    "df = pd.read_csv(path)"
   ]
  },
  {
   "cell_type": "code",
   "execution_count": 80,
   "metadata": {},
   "outputs": [],
   "source": [
    "from sklearn.preprocessing import StandardScaler\n",
    "from sklearn.decomposition import PCA"
   ]
  },
  {
   "cell_type": "code",
   "execution_count": 81,
   "metadata": {},
   "outputs": [
    {
     "data": {
      "text/plain": [
       "Index(['PassengerId', 'Survived', 'Pclass', 'Name', 'Sex', 'Age', 'SibSp',\n",
       "       'Parch', 'Ticket', 'Fare', 'Cabin', 'Embarked'],\n",
       "      dtype='object')"
      ]
     },
     "execution_count": 81,
     "metadata": {},
     "output_type": "execute_result"
    }
   ],
   "source": [
    "df.columns"
   ]
  },
  {
   "cell_type": "code",
   "execution_count": 82,
   "metadata": {},
   "outputs": [
    {
     "data": {
      "text/html": [
       "<div>\n",
       "<style scoped>\n",
       "    .dataframe tbody tr th:only-of-type {\n",
       "        vertical-align: middle;\n",
       "    }\n",
       "\n",
       "    .dataframe tbody tr th {\n",
       "        vertical-align: top;\n",
       "    }\n",
       "\n",
       "    .dataframe thead th {\n",
       "        text-align: right;\n",
       "    }\n",
       "</style>\n",
       "<table border=\"1\" class=\"dataframe\">\n",
       "  <thead>\n",
       "    <tr style=\"text-align: right;\">\n",
       "      <th></th>\n",
       "      <th>PassengerId</th>\n",
       "      <th>Survived</th>\n",
       "      <th>Pclass</th>\n",
       "      <th>Name</th>\n",
       "      <th>Sex</th>\n",
       "      <th>Age</th>\n",
       "      <th>SibSp</th>\n",
       "      <th>Parch</th>\n",
       "      <th>Ticket</th>\n",
       "      <th>Fare</th>\n",
       "      <th>Cabin</th>\n",
       "      <th>Embarked</th>\n",
       "    </tr>\n",
       "  </thead>\n",
       "  <tbody>\n",
       "    <tr>\n",
       "      <th>0</th>\n",
       "      <td>1</td>\n",
       "      <td>0</td>\n",
       "      <td>3</td>\n",
       "      <td>Braund, Mr. Owen Harris</td>\n",
       "      <td>male</td>\n",
       "      <td>22.0</td>\n",
       "      <td>1</td>\n",
       "      <td>0</td>\n",
       "      <td>A/5 21171</td>\n",
       "      <td>7.2500</td>\n",
       "      <td>NaN</td>\n",
       "      <td>S</td>\n",
       "    </tr>\n",
       "    <tr>\n",
       "      <th>1</th>\n",
       "      <td>2</td>\n",
       "      <td>1</td>\n",
       "      <td>1</td>\n",
       "      <td>Cumings, Mrs. John Bradley (Florence Briggs Th...</td>\n",
       "      <td>female</td>\n",
       "      <td>38.0</td>\n",
       "      <td>1</td>\n",
       "      <td>0</td>\n",
       "      <td>PC 17599</td>\n",
       "      <td>71.2833</td>\n",
       "      <td>C85</td>\n",
       "      <td>C</td>\n",
       "    </tr>\n",
       "    <tr>\n",
       "      <th>2</th>\n",
       "      <td>3</td>\n",
       "      <td>1</td>\n",
       "      <td>3</td>\n",
       "      <td>Heikkinen, Miss. Laina</td>\n",
       "      <td>female</td>\n",
       "      <td>26.0</td>\n",
       "      <td>0</td>\n",
       "      <td>0</td>\n",
       "      <td>STON/O2. 3101282</td>\n",
       "      <td>7.9250</td>\n",
       "      <td>NaN</td>\n",
       "      <td>S</td>\n",
       "    </tr>\n",
       "    <tr>\n",
       "      <th>3</th>\n",
       "      <td>4</td>\n",
       "      <td>1</td>\n",
       "      <td>1</td>\n",
       "      <td>Futrelle, Mrs. Jacques Heath (Lily May Peel)</td>\n",
       "      <td>female</td>\n",
       "      <td>35.0</td>\n",
       "      <td>1</td>\n",
       "      <td>0</td>\n",
       "      <td>113803</td>\n",
       "      <td>53.1000</td>\n",
       "      <td>C123</td>\n",
       "      <td>S</td>\n",
       "    </tr>\n",
       "    <tr>\n",
       "      <th>4</th>\n",
       "      <td>5</td>\n",
       "      <td>0</td>\n",
       "      <td>3</td>\n",
       "      <td>Allen, Mr. William Henry</td>\n",
       "      <td>male</td>\n",
       "      <td>35.0</td>\n",
       "      <td>0</td>\n",
       "      <td>0</td>\n",
       "      <td>373450</td>\n",
       "      <td>8.0500</td>\n",
       "      <td>NaN</td>\n",
       "      <td>S</td>\n",
       "    </tr>\n",
       "    <tr>\n",
       "      <th>...</th>\n",
       "      <td>...</td>\n",
       "      <td>...</td>\n",
       "      <td>...</td>\n",
       "      <td>...</td>\n",
       "      <td>...</td>\n",
       "      <td>...</td>\n",
       "      <td>...</td>\n",
       "      <td>...</td>\n",
       "      <td>...</td>\n",
       "      <td>...</td>\n",
       "      <td>...</td>\n",
       "      <td>...</td>\n",
       "    </tr>\n",
       "    <tr>\n",
       "      <th>886</th>\n",
       "      <td>887</td>\n",
       "      <td>0</td>\n",
       "      <td>2</td>\n",
       "      <td>Montvila, Rev. Juozas</td>\n",
       "      <td>male</td>\n",
       "      <td>27.0</td>\n",
       "      <td>0</td>\n",
       "      <td>0</td>\n",
       "      <td>211536</td>\n",
       "      <td>13.0000</td>\n",
       "      <td>NaN</td>\n",
       "      <td>S</td>\n",
       "    </tr>\n",
       "    <tr>\n",
       "      <th>887</th>\n",
       "      <td>888</td>\n",
       "      <td>1</td>\n",
       "      <td>1</td>\n",
       "      <td>Graham, Miss. Margaret Edith</td>\n",
       "      <td>female</td>\n",
       "      <td>19.0</td>\n",
       "      <td>0</td>\n",
       "      <td>0</td>\n",
       "      <td>112053</td>\n",
       "      <td>30.0000</td>\n",
       "      <td>B42</td>\n",
       "      <td>S</td>\n",
       "    </tr>\n",
       "    <tr>\n",
       "      <th>888</th>\n",
       "      <td>889</td>\n",
       "      <td>0</td>\n",
       "      <td>3</td>\n",
       "      <td>Johnston, Miss. Catherine Helen \"Carrie\"</td>\n",
       "      <td>female</td>\n",
       "      <td>NaN</td>\n",
       "      <td>1</td>\n",
       "      <td>2</td>\n",
       "      <td>W./C. 6607</td>\n",
       "      <td>23.4500</td>\n",
       "      <td>NaN</td>\n",
       "      <td>S</td>\n",
       "    </tr>\n",
       "    <tr>\n",
       "      <th>889</th>\n",
       "      <td>890</td>\n",
       "      <td>1</td>\n",
       "      <td>1</td>\n",
       "      <td>Behr, Mr. Karl Howell</td>\n",
       "      <td>male</td>\n",
       "      <td>26.0</td>\n",
       "      <td>0</td>\n",
       "      <td>0</td>\n",
       "      <td>111369</td>\n",
       "      <td>30.0000</td>\n",
       "      <td>C148</td>\n",
       "      <td>C</td>\n",
       "    </tr>\n",
       "    <tr>\n",
       "      <th>890</th>\n",
       "      <td>891</td>\n",
       "      <td>0</td>\n",
       "      <td>3</td>\n",
       "      <td>Dooley, Mr. Patrick</td>\n",
       "      <td>male</td>\n",
       "      <td>32.0</td>\n",
       "      <td>0</td>\n",
       "      <td>0</td>\n",
       "      <td>370376</td>\n",
       "      <td>7.7500</td>\n",
       "      <td>NaN</td>\n",
       "      <td>Q</td>\n",
       "    </tr>\n",
       "  </tbody>\n",
       "</table>\n",
       "<p>891 rows × 12 columns</p>\n",
       "</div>"
      ],
      "text/plain": [
       "     PassengerId  Survived  Pclass  \\\n",
       "0              1         0       3   \n",
       "1              2         1       1   \n",
       "2              3         1       3   \n",
       "3              4         1       1   \n",
       "4              5         0       3   \n",
       "..           ...       ...     ...   \n",
       "886          887         0       2   \n",
       "887          888         1       1   \n",
       "888          889         0       3   \n",
       "889          890         1       1   \n",
       "890          891         0       3   \n",
       "\n",
       "                                                  Name     Sex   Age  SibSp  \\\n",
       "0                              Braund, Mr. Owen Harris    male  22.0      1   \n",
       "1    Cumings, Mrs. John Bradley (Florence Briggs Th...  female  38.0      1   \n",
       "2                               Heikkinen, Miss. Laina  female  26.0      0   \n",
       "3         Futrelle, Mrs. Jacques Heath (Lily May Peel)  female  35.0      1   \n",
       "4                             Allen, Mr. William Henry    male  35.0      0   \n",
       "..                                                 ...     ...   ...    ...   \n",
       "886                              Montvila, Rev. Juozas    male  27.0      0   \n",
       "887                       Graham, Miss. Margaret Edith  female  19.0      0   \n",
       "888           Johnston, Miss. Catherine Helen \"Carrie\"  female   NaN      1   \n",
       "889                              Behr, Mr. Karl Howell    male  26.0      0   \n",
       "890                                Dooley, Mr. Patrick    male  32.0      0   \n",
       "\n",
       "     Parch            Ticket     Fare Cabin Embarked  \n",
       "0        0         A/5 21171   7.2500   NaN        S  \n",
       "1        0          PC 17599  71.2833   C85        C  \n",
       "2        0  STON/O2. 3101282   7.9250   NaN        S  \n",
       "3        0            113803  53.1000  C123        S  \n",
       "4        0            373450   8.0500   NaN        S  \n",
       "..     ...               ...      ...   ...      ...  \n",
       "886      0            211536  13.0000   NaN        S  \n",
       "887      0            112053  30.0000   B42        S  \n",
       "888      2        W./C. 6607  23.4500   NaN        S  \n",
       "889      0            111369  30.0000  C148        C  \n",
       "890      0            370376   7.7500   NaN        Q  \n",
       "\n",
       "[891 rows x 12 columns]"
      ]
     },
     "execution_count": 82,
     "metadata": {},
     "output_type": "execute_result"
    }
   ],
   "source": [
    "df"
   ]
  },
  {
   "cell_type": "code",
   "execution_count": 83,
   "metadata": {},
   "outputs": [],
   "source": [
    "df = df.drop(['Name', 'Sex', 'Ticket', 'Cabin', 'Embarked'], axis=1)\n",
    "df = df.fillna(0)\n",
    "#PCA를 위해 범주형 값 제거\n",
    "#NaN 역시 0으로 대체"
   ]
  },
  {
   "cell_type": "code",
   "execution_count": 84,
   "metadata": {},
   "outputs": [],
   "source": [
    "pca = PCA(n_components=4)\n",
    "p_score = pca.fit_transform(df)"
   ]
  },
  {
   "cell_type": "code",
   "execution_count": 96,
   "metadata": {},
   "outputs": [
    {
     "name": "stdout",
     "output_type": "stream",
     "text": [
      "(891, 4)\n",
      "[0.96, 0.036, 0.004, 0.0]\n"
     ]
    }
   ],
   "source": [
    "print(p_score.shape)\n",
    "print([round(i, 3) for i in pca.explained_variance_ratio_])\n",
    "#explained_variance_ratio_는 변환된 각 차원의 기여도를 보여줌 \n",
    "#1번째 차원만으로도 기존 정보의 96% 유지 가능"
   ]
  },
  {
   "cell_type": "markdown",
   "metadata": {},
   "source": [
    "## 결측치 처리"
   ]
  },
  {
   "cell_type": "code",
   "execution_count": 136,
   "metadata": {},
   "outputs": [],
   "source": [
    "path = \"/mnt/d/data/titanic/train.csv\"\n",
    "df = pd.read_csv(path)"
   ]
  },
  {
   "cell_type": "code",
   "execution_count": 137,
   "metadata": {},
   "outputs": [
    {
     "data": {
      "text/html": [
       "<div>\n",
       "<style scoped>\n",
       "    .dataframe tbody tr th:only-of-type {\n",
       "        vertical-align: middle;\n",
       "    }\n",
       "\n",
       "    .dataframe tbody tr th {\n",
       "        vertical-align: top;\n",
       "    }\n",
       "\n",
       "    .dataframe thead th {\n",
       "        text-align: right;\n",
       "    }\n",
       "</style>\n",
       "<table border=\"1\" class=\"dataframe\">\n",
       "  <thead>\n",
       "    <tr style=\"text-align: right;\">\n",
       "      <th></th>\n",
       "      <th>PassengerId</th>\n",
       "      <th>Survived</th>\n",
       "      <th>Pclass</th>\n",
       "      <th>Name</th>\n",
       "      <th>Sex</th>\n",
       "      <th>Age</th>\n",
       "      <th>SibSp</th>\n",
       "      <th>Parch</th>\n",
       "      <th>Ticket</th>\n",
       "      <th>Fare</th>\n",
       "      <th>Cabin</th>\n",
       "      <th>Embarked</th>\n",
       "    </tr>\n",
       "  </thead>\n",
       "  <tbody>\n",
       "    <tr>\n",
       "      <th>0</th>\n",
       "      <td>False</td>\n",
       "      <td>False</td>\n",
       "      <td>False</td>\n",
       "      <td>False</td>\n",
       "      <td>False</td>\n",
       "      <td>False</td>\n",
       "      <td>False</td>\n",
       "      <td>False</td>\n",
       "      <td>False</td>\n",
       "      <td>False</td>\n",
       "      <td>True</td>\n",
       "      <td>False</td>\n",
       "    </tr>\n",
       "    <tr>\n",
       "      <th>1</th>\n",
       "      <td>False</td>\n",
       "      <td>False</td>\n",
       "      <td>False</td>\n",
       "      <td>False</td>\n",
       "      <td>False</td>\n",
       "      <td>False</td>\n",
       "      <td>False</td>\n",
       "      <td>False</td>\n",
       "      <td>False</td>\n",
       "      <td>False</td>\n",
       "      <td>False</td>\n",
       "      <td>False</td>\n",
       "    </tr>\n",
       "    <tr>\n",
       "      <th>2</th>\n",
       "      <td>False</td>\n",
       "      <td>False</td>\n",
       "      <td>False</td>\n",
       "      <td>False</td>\n",
       "      <td>False</td>\n",
       "      <td>False</td>\n",
       "      <td>False</td>\n",
       "      <td>False</td>\n",
       "      <td>False</td>\n",
       "      <td>False</td>\n",
       "      <td>True</td>\n",
       "      <td>False</td>\n",
       "    </tr>\n",
       "    <tr>\n",
       "      <th>3</th>\n",
       "      <td>False</td>\n",
       "      <td>False</td>\n",
       "      <td>False</td>\n",
       "      <td>False</td>\n",
       "      <td>False</td>\n",
       "      <td>False</td>\n",
       "      <td>False</td>\n",
       "      <td>False</td>\n",
       "      <td>False</td>\n",
       "      <td>False</td>\n",
       "      <td>False</td>\n",
       "      <td>False</td>\n",
       "    </tr>\n",
       "    <tr>\n",
       "      <th>4</th>\n",
       "      <td>False</td>\n",
       "      <td>False</td>\n",
       "      <td>False</td>\n",
       "      <td>False</td>\n",
       "      <td>False</td>\n",
       "      <td>False</td>\n",
       "      <td>False</td>\n",
       "      <td>False</td>\n",
       "      <td>False</td>\n",
       "      <td>False</td>\n",
       "      <td>True</td>\n",
       "      <td>False</td>\n",
       "    </tr>\n",
       "    <tr>\n",
       "      <th>...</th>\n",
       "      <td>...</td>\n",
       "      <td>...</td>\n",
       "      <td>...</td>\n",
       "      <td>...</td>\n",
       "      <td>...</td>\n",
       "      <td>...</td>\n",
       "      <td>...</td>\n",
       "      <td>...</td>\n",
       "      <td>...</td>\n",
       "      <td>...</td>\n",
       "      <td>...</td>\n",
       "      <td>...</td>\n",
       "    </tr>\n",
       "    <tr>\n",
       "      <th>886</th>\n",
       "      <td>False</td>\n",
       "      <td>False</td>\n",
       "      <td>False</td>\n",
       "      <td>False</td>\n",
       "      <td>False</td>\n",
       "      <td>False</td>\n",
       "      <td>False</td>\n",
       "      <td>False</td>\n",
       "      <td>False</td>\n",
       "      <td>False</td>\n",
       "      <td>True</td>\n",
       "      <td>False</td>\n",
       "    </tr>\n",
       "    <tr>\n",
       "      <th>887</th>\n",
       "      <td>False</td>\n",
       "      <td>False</td>\n",
       "      <td>False</td>\n",
       "      <td>False</td>\n",
       "      <td>False</td>\n",
       "      <td>False</td>\n",
       "      <td>False</td>\n",
       "      <td>False</td>\n",
       "      <td>False</td>\n",
       "      <td>False</td>\n",
       "      <td>False</td>\n",
       "      <td>False</td>\n",
       "    </tr>\n",
       "    <tr>\n",
       "      <th>888</th>\n",
       "      <td>False</td>\n",
       "      <td>False</td>\n",
       "      <td>False</td>\n",
       "      <td>False</td>\n",
       "      <td>False</td>\n",
       "      <td>True</td>\n",
       "      <td>False</td>\n",
       "      <td>False</td>\n",
       "      <td>False</td>\n",
       "      <td>False</td>\n",
       "      <td>True</td>\n",
       "      <td>False</td>\n",
       "    </tr>\n",
       "    <tr>\n",
       "      <th>889</th>\n",
       "      <td>False</td>\n",
       "      <td>False</td>\n",
       "      <td>False</td>\n",
       "      <td>False</td>\n",
       "      <td>False</td>\n",
       "      <td>False</td>\n",
       "      <td>False</td>\n",
       "      <td>False</td>\n",
       "      <td>False</td>\n",
       "      <td>False</td>\n",
       "      <td>False</td>\n",
       "      <td>False</td>\n",
       "    </tr>\n",
       "    <tr>\n",
       "      <th>890</th>\n",
       "      <td>False</td>\n",
       "      <td>False</td>\n",
       "      <td>False</td>\n",
       "      <td>False</td>\n",
       "      <td>False</td>\n",
       "      <td>False</td>\n",
       "      <td>False</td>\n",
       "      <td>False</td>\n",
       "      <td>False</td>\n",
       "      <td>False</td>\n",
       "      <td>True</td>\n",
       "      <td>False</td>\n",
       "    </tr>\n",
       "  </tbody>\n",
       "</table>\n",
       "<p>891 rows × 12 columns</p>\n",
       "</div>"
      ],
      "text/plain": [
       "     PassengerId  Survived  Pclass   Name    Sex    Age  SibSp  Parch  Ticket  \\\n",
       "0          False     False   False  False  False  False  False  False   False   \n",
       "1          False     False   False  False  False  False  False  False   False   \n",
       "2          False     False   False  False  False  False  False  False   False   \n",
       "3          False     False   False  False  False  False  False  False   False   \n",
       "4          False     False   False  False  False  False  False  False   False   \n",
       "..           ...       ...     ...    ...    ...    ...    ...    ...     ...   \n",
       "886        False     False   False  False  False  False  False  False   False   \n",
       "887        False     False   False  False  False  False  False  False   False   \n",
       "888        False     False   False  False  False   True  False  False   False   \n",
       "889        False     False   False  False  False  False  False  False   False   \n",
       "890        False     False   False  False  False  False  False  False   False   \n",
       "\n",
       "      Fare  Cabin  Embarked  \n",
       "0    False   True     False  \n",
       "1    False  False     False  \n",
       "2    False   True     False  \n",
       "3    False  False     False  \n",
       "4    False   True     False  \n",
       "..     ...    ...       ...  \n",
       "886  False   True     False  \n",
       "887  False  False     False  \n",
       "888  False   True     False  \n",
       "889  False  False     False  \n",
       "890  False   True     False  \n",
       "\n",
       "[891 rows x 12 columns]"
      ]
     },
     "execution_count": 137,
     "metadata": {},
     "output_type": "execute_result"
    }
   ],
   "source": [
    "df.isnull()"
   ]
  },
  {
   "cell_type": "code",
   "execution_count": 138,
   "metadata": {},
   "outputs": [
    {
     "name": "stdout",
     "output_type": "stream",
     "text": [
      "PassengerId      0\n",
      "Survived         0\n",
      "Pclass           0\n",
      "Name             0\n",
      "Sex              0\n",
      "Age            177\n",
      "SibSp            0\n",
      "Parch            0\n",
      "Ticket           0\n",
      "Fare             0\n",
      "Cabin          687\n",
      "Embarked         2\n",
      "dtype: int64\n"
     ]
    }
   ],
   "source": [
    "print(df.isnull().sum())"
   ]
  },
  {
   "cell_type": "code",
   "execution_count": 139,
   "metadata": {},
   "outputs": [
    {
     "name": "stdout",
     "output_type": "stream",
     "text": [
      "<class 'pandas.core.frame.DataFrame'>\n",
      "RangeIndex: 891 entries, 0 to 890\n",
      "Data columns (total 12 columns):\n",
      " #   Column       Non-Null Count  Dtype  \n",
      "---  ------       --------------  -----  \n",
      " 0   PassengerId  891 non-null    int64  \n",
      " 1   Survived     891 non-null    int64  \n",
      " 2   Pclass       891 non-null    int64  \n",
      " 3   Name         891 non-null    object \n",
      " 4   Sex          891 non-null    object \n",
      " 5   Age          714 non-null    float64\n",
      " 6   SibSp        891 non-null    int64  \n",
      " 7   Parch        891 non-null    int64  \n",
      " 8   Ticket       891 non-null    object \n",
      " 9   Fare         891 non-null    float64\n",
      " 10  Cabin        204 non-null    object \n",
      " 11  Embarked     889 non-null    object \n",
      "dtypes: float64(2), int64(5), object(5)\n",
      "memory usage: 83.7+ KB\n"
     ]
    }
   ],
   "source": [
    "df.info()"
   ]
  },
  {
   "cell_type": "markdown",
   "metadata": {},
   "source": [
    "### 결측치 행제거"
   ]
  },
  {
   "cell_type": "code",
   "execution_count": 140,
   "metadata": {},
   "outputs": [
    {
     "name": "stdout",
     "output_type": "stream",
     "text": [
      "PassengerId    0\n",
      "Survived       0\n",
      "Pclass         0\n",
      "Name           0\n",
      "Sex            0\n",
      "Age            0\n",
      "SibSp          0\n",
      "Parch          0\n",
      "Ticket         0\n",
      "Fare           0\n",
      "Cabin          0\n",
      "Embarked       0\n",
      "dtype: int64\n",
      "(891, 12) (183, 12)\n"
     ]
    }
   ],
   "source": [
    "df_1 = df.dropna(axis=0)\n",
    "\n",
    "print(df_1.isnull().sum())\n",
    "print(df.shape, df_1.shape)"
   ]
  },
  {
   "cell_type": "markdown",
   "metadata": {},
   "source": [
    "### 결측치 대체"
   ]
  },
  {
   "cell_type": "code",
   "execution_count": 141,
   "metadata": {},
   "outputs": [
    {
     "name": "stdout",
     "output_type": "stream",
     "text": [
      "177\n",
      "0\n"
     ]
    }
   ],
   "source": [
    "print(df[\"Age\"].isnull().sum())\n",
    "age_mean = df[\"Age\"].mean()\n",
    "df[\"Age\"].fillna(age_mean, inplace=True)\n",
    "print(df[\"Age\"].isnull().sum())"
   ]
  },
  {
   "cell_type": "markdown",
   "metadata": {},
   "source": [
    "### 최빈값 대체"
   ]
  },
  {
   "cell_type": "code",
   "execution_count": 142,
   "metadata": {},
   "outputs": [],
   "source": [
    "from scipy.stats import mode"
   ]
  },
  {
   "cell_type": "code",
   "execution_count": 143,
   "metadata": {},
   "outputs": [
    {
     "name": "stdout",
     "output_type": "stream",
     "text": [
      "2\n",
      "0\n"
     ]
    }
   ],
   "source": [
    "print(df[\"Embarked\"].isnull().sum())\n",
    "embarked_mode = df[\"Embarked\"].mode()\n",
    "\n",
    "df[\"Embarked\"].fillna(embarked_mode[0], inplace=True)\n",
    "print(df[\"Embarked\"].isnull().sum())"
   ]
  },
  {
   "cell_type": "markdown",
   "metadata": {},
   "source": [
    "### 인접 값 대체"
   ]
  },
  {
   "cell_type": "code",
   "execution_count": 145,
   "metadata": {},
   "outputs": [],
   "source": [
    "df[\"Embarked\"].fillna(method=\"ffill\", inplace=True)\n",
    "#ffill을 쓰면 윗값으로 bfill을 쓰면 아랫값으로 대체됨"
   ]
  },
  {
   "cell_type": "markdown",
   "metadata": {},
   "source": [
    "### 그룹값으로 대체"
   ]
  },
  {
   "cell_type": "code",
   "execution_count": 147,
   "metadata": {},
   "outputs": [],
   "source": [
    "path = \"/mnt/d/data/titanic/train.csv\"\n",
    "df = pd.read_csv(path)"
   ]
  },
  {
   "cell_type": "code",
   "execution_count": 149,
   "metadata": {},
   "outputs": [
    {
     "name": "stdout",
     "output_type": "stream",
     "text": [
      "Sex\n",
      "female    27.915709\n",
      "male      30.726645\n",
      "Name: Age, dtype: float64\n",
      "\n",
      "Pclass\n",
      "1    38.233441\n",
      "2    29.877630\n",
      "3    25.140620\n",
      "Name: Age, dtype: float64\n"
     ]
    }
   ],
   "source": [
    "print(df.groupby(\"Sex\")[\"Age\"].mean())\n",
    "print()\n",
    "print(df.groupby(\"Pclass\")[\"Age\"].mean())"
   ]
  },
  {
   "cell_type": "code",
   "execution_count": 152,
   "metadata": {},
   "outputs": [],
   "source": [
    "df[\"Age\"].fillna(df.groupby(\"Pclass\")[\"Age\"].transform(\"mean\"), inplace=True)\n",
    "#transform을 통해 mean연산을 Series전체에 적용가능"
   ]
  },
  {
   "cell_type": "code",
   "execution_count": 154,
   "metadata": {},
   "outputs": [
    {
     "data": {
      "text/plain": [
       "0      25.140620\n",
       "1      38.233441\n",
       "2      25.140620\n",
       "3      38.233441\n",
       "4      25.140620\n",
       "         ...    \n",
       "886    29.877630\n",
       "887    38.233441\n",
       "888    25.140620\n",
       "889    38.233441\n",
       "890    25.140620\n",
       "Name: Age, Length: 891, dtype: float64"
      ]
     },
     "execution_count": 154,
     "metadata": {},
     "output_type": "execute_result"
    }
   ],
   "source": [
    "df.groupby(\"Pclass\")[\"Age\"].transform(\"mean\")"
   ]
  },
  {
   "cell_type": "markdown",
   "metadata": {},
   "source": [
    "## 이상치 처리"
   ]
  },
  {
   "cell_type": "code",
   "execution_count": 156,
   "metadata": {},
   "outputs": [
    {
     "data": {
      "text/plain": [
       "0       7.2500\n",
       "1      71.2833\n",
       "2       7.9250\n",
       "3      53.1000\n",
       "4       8.0500\n",
       "        ...   \n",
       "886    13.0000\n",
       "887    30.0000\n",
       "888    23.4500\n",
       "889    30.0000\n",
       "890     7.7500\n",
       "Name: Fare, Length: 891, dtype: float64"
      ]
     },
     "execution_count": 156,
     "metadata": {},
     "output_type": "execute_result"
    }
   ],
   "source": [
    "df[\"Fare\"]"
   ]
  },
  {
   "cell_type": "code",
   "execution_count": 157,
   "metadata": {},
   "outputs": [
    {
     "data": {
      "text/plain": [
       "(array([732., 106.,  31.,   2.,  11.,   6.,   0.,   0.,   0.,   3.]),\n",
       " array([  0.     ,  51.23292, 102.46584, 153.69876, 204.93168, 256.1646 ,\n",
       "        307.39752, 358.63044, 409.86336, 461.09628, 512.3292 ]),\n",
       " <BarContainer object of 10 artists>)"
      ]
     },
     "execution_count": 157,
     "metadata": {},
     "output_type": "execute_result"
    },
    {
     "data": {
      "image/png": "[encoded data removed]",
      "text/plain": [
       "<Figure size 640x480 with 1 Axes>"
      ]
     },
     "metadata": {},
     "output_type": "display_data"
    }
   ],
   "source": [
    "plt.hist(df[\"Fare\"])"
   ]
  },
  {
   "cell_type": "code",
   "execution_count": 158,
   "metadata": {},
   "outputs": [
    {
     "data": {
      "text/plain": [
       "{'whiskers': [<matplotlib.lines.Line2D at 0x7fe36eccbee0>,\n",
       "  <matplotlib.lines.Line2D at 0x7fe36ecdb1c0>],\n",
       " 'caps': [<matplotlib.lines.Line2D at 0x7fe36ecdb460>,\n",
       "  <matplotlib.lines.Line2D at 0x7fe36ecdb700>],\n",
       " 'boxes': [<matplotlib.lines.Line2D at 0x7fe36eccbc40>],\n",
       " 'medians': [<matplotlib.lines.Line2D at 0x7fe36ecdb9a0>],\n",
       " 'fliers': [<matplotlib.lines.Line2D at 0x7fe36ecdbc40>],\n",
       " 'means': []}"
      ]
     },
     "execution_count": 158,
     "metadata": {},
     "output_type": "execute_result"
    },
    {
     "data": {
      "image/png": "[encoded data removed]",
      "text/plain": [
       "<Figure size 640x480 with 1 Axes>"
      ]
     },
     "metadata": {},
     "output_type": "display_data"
    }
   ],
   "source": [
    "plt.boxplot(df[\"Fare\"])"
   ]
  },
  {
   "cell_type": "code",
   "execution_count": 160,
   "metadata": {},
   "outputs": [
    {
     "name": "stdout",
     "output_type": "stream",
     "text": [
      "7.9104\n",
      "14.4542\n",
      "31.0\n",
      "23.0896\n"
     ]
    }
   ],
   "source": [
    "Q1 = df[\"Fare\"].quantile(.25)\n",
    "Q2 = df[\"Fare\"].quantile(.5)\n",
    "Q3 = df[\"Fare\"].quantile(.75)\n",
    "IQR = Q3-Q1\n",
    "\n",
    "print(Q1)\n",
    "print(Q2)\n",
    "print(Q3)\n",
    "print(IQR)"
   ]
  },
  {
   "cell_type": "code",
   "execution_count": 162,
   "metadata": {},
   "outputs": [
    {
     "data": {
      "text/plain": [
       "count    891.000000\n",
       "mean      32.204208\n",
       "std       49.693429\n",
       "min        0.000000\n",
       "25%        7.910400\n",
       "50%       14.454200\n",
       "75%       31.000000\n",
       "max      512.329200\n",
       "Name: Fare, dtype: float64"
      ]
     },
     "execution_count": 162,
     "metadata": {},
     "output_type": "execute_result"
    }
   ],
   "source": [
    "df[\"Fare\"].describe()"
   ]
  },
  {
   "cell_type": "markdown",
   "metadata": {},
   "source": [
    "## Checking outliers by IQR"
   ]
  },
  {
   "cell_type": "code",
   "execution_count": 170,
   "metadata": {},
   "outputs": [],
   "source": [
    "condition = df[\"Fare\"] > (Q3 + IQR * 1.5)\n",
    "upperOutliers = df[condition]\n",
    "condition = df[\"Fare\"] < (Q1 - IQR * 1.5)\n",
    "lowerOutliers = df[condition]\n",
    "\n",
    "#이상치 체크 패턴에 주의\n"
   ]
  },
  {
   "cell_type": "code",
   "execution_count": 168,
   "metadata": {},
   "outputs": [
    {
     "name": "stdout",
     "output_type": "stream",
     "text": [
      "1      71.2833\n",
      "27    263.0000\n",
      "31    146.5208\n",
      "34     82.1708\n",
      "52     76.7292\n",
      "Name: Fare, dtype: float64\n",
      "Series([], Name: Fare, dtype: float64)\n"
     ]
    }
   ],
   "source": [
    "print(upperOutliers[\"Fare\"].head())\n",
    "print(lowerOutliers[\"Fare\"].head())"
   ]
  },
  {
   "cell_type": "markdown",
   "metadata": {},
   "source": [
    "## 평활화(smoothing)"
   ]
  },
  {
   "cell_type": "code",
   "execution_count": 176,
   "metadata": {},
   "outputs": [
    {
     "data": {
      "text/plain": [
       "[<matplotlib.lines.Line2D at 0x7fe38c1a6220>]"
      ]
     },
     "execution_count": 176,
     "metadata": {},
     "output_type": "execute_result"
    },
    {
     "data": {
      "image/png": "[encoded data removed]",
      "text/plain": [
       "<Figure size 640x480 with 1 Axes>"
      ]
     },
     "metadata": {},
     "output_type": "display_data"
    }
   ],
   "source": [
    "df = df[df[\"Fare\"] > (Q3 + IQR * 1.5)]\n",
    "\n",
    "df[\"sma\"] = df[\"Fare\"].rolling(10).mean()   #simple moving averagement\n",
    "\n",
    "plt.plot(df[\"sma\"], alpha=0.7)\n",
    "plt.plot(df[\"Fare\"], alpha=0.7, color=\"tomato\")"
   ]
  },
  {
   "cell_type": "markdown",
   "metadata": {},
   "source": [
    "### 지수가중이동평균"
   ]
  },
  {
   "cell_type": "code",
   "execution_count": 178,
   "metadata": {},
   "outputs": [
    {
     "data": {
      "text/plain": [
       "[<matplotlib.lines.Line2D at 0x7fe39089e670>]"
      ]
     },
     "execution_count": 178,
     "metadata": {},
     "output_type": "execute_result"
    },
    {
     "data": {
      "image/png": "[encoded data removed]",
      "text/plain": [
       "<Figure size 640x480 with 1 Axes>"
      ]
     },
     "metadata": {},
     "output_type": "display_data"
    }
   ],
   "source": [
    "df[\"ewm\"] = df[\"Fare\"].ewm(10).mean(10)\n",
    "\n",
    "plt.plot(df[\"ewm\"], alpha=0.7)\n",
    "plt.plot(df[\"Fare\"], alpha=0.7, color=\"tomato\")"
   ]
  }
 ],
 "metadata": {
  "kernelspec": {
   "display_name": "base",
   "language": "python",
   "name": "dl"
  },
  "language_info": {
   "codemirror_mode": {
    "name": "ipython",
    "version": 3
   },
   "file_extension": ".py",
   "mimetype": "text/x-python",
   "name": "python",
   "nbconvert_exporter": "python",
   "pygments_lexer": "ipython3",
   "version": "3.9.2"
  }
 },
 "nbformat": 4,
 "nbformat_minor": 2
}
