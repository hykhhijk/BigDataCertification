{
 "cells": [
  {
   "cell_type": "code",
   "execution_count": 1,
   "metadata": {},
   "outputs": [],
   "source": [
    "import os\n",
    "import numpy as np\n",
    "import pandas as pd"
   ]
  },
  {
   "cell_type": "code",
   "execution_count": 12,
   "metadata": {},
   "outputs": [],
   "source": [
    "pkgs = pd.read_csv(\"./data/pkgs.txt\", header=None)"
   ]
  },
  {
   "cell_type": "code",
   "execution_count": 13,
   "metadata": {},
   "outputs": [],
   "source": [
    "pkgs = pkgs.applymap(lambda x: x.split()[1:])"
   ]
  },
  {
   "cell_type": "code",
   "execution_count": 16,
   "metadata": {},
   "outputs": [],
   "source": [
    "pkgs = pkgs.applymap(lambda x:\"==\".join(x))"
   ]
  },
  {
   "cell_type": "code",
   "execution_count": 42,
   "metadata": {},
   "outputs": [],
   "source": [
    "f = open(\"./data/requirements.txt\",mode=\"w\")"
   ]
  },
  {
   "cell_type": "code",
   "execution_count": 43,
   "metadata": {},
   "outputs": [
    {
     "name": "stdout",
     "output_type": "stream",
     "text": [
      "asn1crypto==0.24.0\n",
      "beautifulsoup4==4.9.3\n",
      "certifi==2018.1.18\n",
      "chardet==3.0.4\n",
      "cryptography==2.1.4\n",
      "cycler==0.10.0\n",
      "cython==0.29.24\n",
      "distlib==0.3.2\n",
      "idna==2.6\n",
      "joblib==1.0.1\n",
      "keyring==10.6.0\n",
      "keyrings.alt==3.0\n",
      "kiwisolver==1.3.1\n",
      "lightgbm==3.3.2\n",
      "matplotlib==3.4.2\n",
      "numpy==1.21.1\n",
      "pandas==1.4.2\n",
      "pillow==8.3.1\n",
      "pip==21.1.3\n",
      "pycrypto==2.6.1\n",
      "pygobject==3.26.1\n",
      "pyparsing==2.4.7\n",
      "python-apt==1.6.5+ubuntu0.6\n",
      "python-dateutil==2.8.2\n",
      "pytz==2021.1\n",
      "pyxdg==0.25\n",
      "requests==2.18.4\n",
      "scikit-learn==0.24.2\n",
      "scipy==1.7.0\n",
      "secretstorage==2.3.1\n",
      "selenium==3.141.0\n",
      "setuptools==57.4.0\n",
      "six==1.11.0\n",
      "soupsieve==2.2.1\n",
      "ssh-import-id==5.7\n",
      "threadpoolctl==2.2.0\n",
      "unattended-upgrades==0.1\n",
      "urllib3==1.22\n",
      "wheel==0.30.0\n",
      "xgboost==1.4.2\n"
     ]
    }
   ],
   "source": [
    "for i in np.array(pkgs):\n",
    "    print(str(i[0]))\n",
    "    f.write(str(i[0])+\"\\n\")\n",
    "f.close()"
   ]
  },
  {
   "cell_type": "code",
   "execution_count": 18,
   "metadata": {},
   "outputs": [
    {
     "data": {
      "text/plain": [
       "array(['asn1crypto==0.24.0', 'beautifulsoup4==4.9.3',\n",
       "       'certifi==2018.1.18', 'chardet==3.0.4', 'cryptography==2.1.4',\n",
       "       'cycler==0.10.0', 'cython==0.29.24', 'distlib==0.3.2', 'idna==2.6',\n",
       "       'joblib==1.0.1', 'keyring==10.6.0', 'keyrings.alt==3.0',\n",
       "       'kiwisolver==1.3.1', 'lightgbm==3.3.2', 'matplotlib==3.4.2',\n",
       "       'numpy==1.21.1', 'pandas==1.4.2', 'pillow==8.3.1', 'pip==21.1.3',\n",
       "       'pycrypto==2.6.1', 'pygobject==3.26.1', 'pyparsing==2.4.7',\n",
       "       'python-apt==1.6.5+ubuntu0.6', 'python-dateutil==2.8.2',\n",
       "       'pytz==2021.1', 'pyxdg==0.25', 'requests==2.18.4',\n",
       "       'scikit-learn==0.24.2', 'scipy==1.7.0', 'secretstorage==2.3.1',\n",
       "       'selenium==3.141.0', 'setuptools==57.4.0', 'six==1.11.0',\n",
       "       'soupsieve==2.2.1', 'ssh-import-id==5.7', 'threadpoolctl==2.2.0',\n",
       "       'unattended-upgrades==0.1', 'urllib3==1.22', 'wheel==0.30.0',\n",
       "       'xgboost==1.4.2'], dtype=object)"
      ]
     },
     "execution_count": 18,
     "metadata": {},
     "output_type": "execute_result"
    }
   ],
   "source": [
    "#구름 파이선 버전:3.9.6"
   ]
  },
  {
   "cell_type": "code",
   "execution_count": null,
   "metadata": {},
   "outputs": [],
   "source": []
  }
 ],
 "metadata": {
  "kernelspec": {
   "display_name": "torch",
   "language": "python",
   "name": "python3"
  },
  "language_info": {
   "codemirror_mode": {
    "name": "ipython",
    "version": 3
   },
   "file_extension": ".py",
   "mimetype": "text/x-python",
   "name": "python",
   "nbconvert_exporter": "python",
   "pygments_lexer": "ipython3",
   "version": "3.9.6"
  }
 },
 "nbformat": 4,
 "nbformat_minor": 2
}
